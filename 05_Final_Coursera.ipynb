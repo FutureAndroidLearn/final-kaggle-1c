{
 "cells": [
  {
   "cell_type": "markdown",
   "metadata": {},
   "source": [
    "# **Check versions**"
   ]
  },
  {
   "cell_type": "code",
   "execution_count": 1,
   "metadata": {},
   "outputs": [
    {
     "name": "stdout",
     "output_type": "stream",
     "text": [
      "numpy 1.18.1\n",
      "pandas 1.0.1\n",
      "sklearn 0.22.1\n",
      "seaborn 0.10.0\n"
     ]
    }
   ],
   "source": [
    "import numpy as np\n",
    "import pandas as pd \n",
    "import sklearn\n",
    "import seaborn as sns\n",
    "\n",
    "for p in [np, pd, sklearn, sns]:\n",
    "    print (p.__name__, p.__version__)"
   ]
  },
  {
   "cell_type": "markdown",
   "metadata": {},
   "source": [
    "The following code has been tested in:\n",
    "\n",
    "*   numpy 1.18.1\n",
    "*   pandas 1.0.1\n",
    "*   sklearn 0.22.1\n",
    "*   seaborn 0.10.1"
   ]
  },
  {
   "cell_type": "markdown",
   "metadata": {},
   "source": [
    "# **Summary**\n",
    "\n",
    "In this final project, a model has been created in order to predict future sales at 1C Company, one of the largest software firms. In the EDA process, it was discovered that a lot of products and some shops were not active in the last year, therefore they were not be considered in the feature generation process. Although some information may be lost, this reduction allows training models a bit faster and with processing and resources available, without affecting the score significantly. In the feature generation lags of 1,2,3 and 12 months were used.  Finally, 17 features were created. An XGBoost model was built, getting 0.94205 in the RMSE metric with the test dataset. Then, two ensembling techniques were tested (simple mix, stacking) but it was not possible to improve the score."
   ]
  },
  {
   "cell_type": "code",
   "execution_count": 2,
   "metadata": {},
   "outputs": [],
   "source": [
    "from xgboost import XGBRegressor\n",
    "from sklearn.linear_model import LinearRegression\n",
    "from sklearn.metrics import mean_squared_error\n",
    "from sklearn.metrics import r2_score\n",
    "from tqdm import tqdm_notebook\n",
    "import gc\n",
    "import matplotlib.pyplot as plt\n",
    "%matplotlib inline \n",
    "from itertools import product\n",
    "import time\n",
    "\n",
    "pd.set_option('display.max_rows', 600)\n",
    "pd.set_option('display.max_columns', 50)\n",
    "\n",
    "def downcast_dtypes(df):\n",
    "    '''\n",
    "        Changes column types in the dataframe: \n",
    "                \n",
    "                `float64` type to `float32`\n",
    "                `int64`   type to `int32`\n",
    "    '''\n",
    "    \n",
    "    # Select columns to downcast\n",
    "    float_cols = [c for c in df if df[c].dtype == \"float64\"]\n",
    "    int_cols =   [c for c in df if df[c].dtype == \"int64\"]\n",
    "    \n",
    "    # Downcast\n",
    "    df[float_cols] = df[float_cols].astype(np.float32)\n",
    "    df[int_cols]   = df[int_cols].astype(np.int32)\n",
    "    \n",
    "    return df"
   ]
  },
  {
   "cell_type": "markdown",
   "metadata": {},
   "source": [
    "# **EDA**"
   ]
  },
  {
   "cell_type": "markdown",
   "metadata": {},
   "source": [
    "The data provided includes:\n",
    "\n",
    "## File descriptions\n",
    "\n",
    "- **sales_train.csv**: Train set. Daily historical data from January 2013 to October 2015\n",
    "- **test.csv**: Test set. You need forecast the sales for these shops and products for November 2015\n",
    "- **sample_submission.csv**: A sample submission in the correct format\n",
    "- **items.csv**: Supplemental information about the items/products\n",
    "- **items_categories.csv**: supplemental information about the items categories\n",
    "- **shops.csv**: supplemental information about the shops\n",
    "\n",
    "## Data fields\n",
    "\n",
    "- **ID**:An id that represents a (Shop, Item) tuple within the test set\n",
    "- **shop_id**: Unique identifier of a shop\n",
    "- **item_id**: Unique identifier of a product\n",
    "- **item_category_id**: Unique identifier of a item category\n",
    "- **item_cnt_day**: Number of products sold. Your are predicting a monthly amount of this measure\n",
    "- **item_price**: Current price of a item\n",
    "- **date**: date in format dd/mm/yyyy\n",
    "- **date_block_num**: A consecutive month number, used for convinience. January 2013 is 0, February 2013 is 1 ... October 2015 is 33\n",
    "- **item_name**: Name of item\n",
    "- **shop_name**: Name of shop\n",
    "- **item_category_name**: Name of category name"
   ]
  },
  {
   "cell_type": "code",
   "execution_count": 3,
   "metadata": {},
   "outputs": [],
   "source": [
    "# Import data from csv files\n",
    "sales_data = pd.read_csv('sales_train.zip')\n",
    "shops_data = pd.read_csv('shops.csv')\n",
    "categories_data = pd.read_csv('item_categories.csv')\n",
    "items_data = pd.read_csv('items.csv')\n",
    "test_data = pd.read_csv('test.csv').set_index('ID')"
   ]
  },
  {
   "cell_type": "code",
   "execution_count": 4,
   "metadata": {},
   "outputs": [
    {
     "name": "stdout",
     "output_type": "stream",
     "text": [
      "(2935849, 6)\n"
     ]
    },
    {
     "data": {
      "text/html": [
       "<div>\n",
       "<style scoped>\n",
       "    .dataframe tbody tr th:only-of-type {\n",
       "        vertical-align: middle;\n",
       "    }\n",
       "\n",
       "    .dataframe tbody tr th {\n",
       "        vertical-align: top;\n",
       "    }\n",
       "\n",
       "    .dataframe thead th {\n",
       "        text-align: right;\n",
       "    }\n",
       "</style>\n",
       "<table border=\"1\" class=\"dataframe\">\n",
       "  <thead>\n",
       "    <tr style=\"text-align: right;\">\n",
       "      <th></th>\n",
       "      <th>date</th>\n",
       "      <th>date_block_num</th>\n",
       "      <th>shop_id</th>\n",
       "      <th>item_id</th>\n",
       "      <th>item_price</th>\n",
       "      <th>item_cnt_day</th>\n",
       "    </tr>\n",
       "  </thead>\n",
       "  <tbody>\n",
       "    <tr>\n",
       "      <th>0</th>\n",
       "      <td>02.01.2013</td>\n",
       "      <td>0</td>\n",
       "      <td>59</td>\n",
       "      <td>22154</td>\n",
       "      <td>999.00</td>\n",
       "      <td>1.0</td>\n",
       "    </tr>\n",
       "    <tr>\n",
       "      <th>1</th>\n",
       "      <td>03.01.2013</td>\n",
       "      <td>0</td>\n",
       "      <td>25</td>\n",
       "      <td>2552</td>\n",
       "      <td>899.00</td>\n",
       "      <td>1.0</td>\n",
       "    </tr>\n",
       "    <tr>\n",
       "      <th>2</th>\n",
       "      <td>05.01.2013</td>\n",
       "      <td>0</td>\n",
       "      <td>25</td>\n",
       "      <td>2552</td>\n",
       "      <td>899.00</td>\n",
       "      <td>-1.0</td>\n",
       "    </tr>\n",
       "    <tr>\n",
       "      <th>3</th>\n",
       "      <td>06.01.2013</td>\n",
       "      <td>0</td>\n",
       "      <td>25</td>\n",
       "      <td>2554</td>\n",
       "      <td>1709.05</td>\n",
       "      <td>1.0</td>\n",
       "    </tr>\n",
       "    <tr>\n",
       "      <th>4</th>\n",
       "      <td>15.01.2013</td>\n",
       "      <td>0</td>\n",
       "      <td>25</td>\n",
       "      <td>2555</td>\n",
       "      <td>1099.00</td>\n",
       "      <td>1.0</td>\n",
       "    </tr>\n",
       "  </tbody>\n",
       "</table>\n",
       "</div>"
      ],
      "text/plain": [
       "         date  date_block_num  shop_id  item_id  item_price  item_cnt_day\n",
       "0  02.01.2013               0       59    22154      999.00           1.0\n",
       "1  03.01.2013               0       25     2552      899.00           1.0\n",
       "2  05.01.2013               0       25     2552      899.00          -1.0\n",
       "3  06.01.2013               0       25     2554     1709.05           1.0\n",
       "4  15.01.2013               0       25     2555     1099.00           1.0"
      ]
     },
     "execution_count": 4,
     "metadata": {},
     "output_type": "execute_result"
    }
   ],
   "source": [
    "print(sales_data.shape)\n",
    "sales_data.head()"
   ]
  },
  {
   "cell_type": "code",
   "execution_count": 5,
   "metadata": {},
   "outputs": [
    {
     "data": {
      "text/html": [
       "<div>\n",
       "<style scoped>\n",
       "    .dataframe tbody tr th:only-of-type {\n",
       "        vertical-align: middle;\n",
       "    }\n",
       "\n",
       "    .dataframe tbody tr th {\n",
       "        vertical-align: top;\n",
       "    }\n",
       "\n",
       "    .dataframe thead th {\n",
       "        text-align: right;\n",
       "    }\n",
       "</style>\n",
       "<table border=\"1\" class=\"dataframe\">\n",
       "  <thead>\n",
       "    <tr style=\"text-align: right;\">\n",
       "      <th></th>\n",
       "      <th>date</th>\n",
       "      <th>date_block_num</th>\n",
       "      <th>shop_id</th>\n",
       "      <th>item_id</th>\n",
       "      <th>item_price</th>\n",
       "      <th>item_cnt_day</th>\n",
       "    </tr>\n",
       "  </thead>\n",
       "  <tbody>\n",
       "    <tr>\n",
       "      <th>0</th>\n",
       "      <td>28.12.2013</td>\n",
       "      <td>103774</td>\n",
       "      <td>315275</td>\n",
       "      <td>93436151</td>\n",
       "      <td>9.491239e+06</td>\n",
       "      <td>13343.0</td>\n",
       "    </tr>\n",
       "    <tr>\n",
       "      <th>1</th>\n",
       "      <td>30.12.2014</td>\n",
       "      <td>214452</td>\n",
       "      <td>309775</td>\n",
       "      <td>94418782</td>\n",
       "      <td>1.220957e+07</td>\n",
       "      <td>13236.0</td>\n",
       "    </tr>\n",
       "    <tr>\n",
       "      <th>2</th>\n",
       "      <td>29.12.2013</td>\n",
       "      <td>102685</td>\n",
       "      <td>315291</td>\n",
       "      <td>92980641</td>\n",
       "      <td>9.184175e+06</td>\n",
       "      <td>12863.0</td>\n",
       "    </tr>\n",
       "    <tr>\n",
       "      <th>3</th>\n",
       "      <td>30.12.2013</td>\n",
       "      <td>100518</td>\n",
       "      <td>302621</td>\n",
       "      <td>89671936</td>\n",
       "      <td>9.448912e+06</td>\n",
       "      <td>12823.0</td>\n",
       "    </tr>\n",
       "    <tr>\n",
       "      <th>4</th>\n",
       "      <td>31.12.2014</td>\n",
       "      <td>191981</td>\n",
       "      <td>275199</td>\n",
       "      <td>83384841</td>\n",
       "      <td>1.127468e+07</td>\n",
       "      <td>11394.0</td>\n",
       "    </tr>\n",
       "  </tbody>\n",
       "</table>\n",
       "</div>"
      ],
      "text/plain": [
       "         date  date_block_num  shop_id   item_id    item_price  item_cnt_day\n",
       "0  28.12.2013          103774   315275  93436151  9.491239e+06       13343.0\n",
       "1  30.12.2014          214452   309775  94418782  1.220957e+07       13236.0\n",
       "2  29.12.2013          102685   315291  92980641  9.184175e+06       12863.0\n",
       "3  30.12.2013          100518   302621  89671936  9.448912e+06       12823.0\n",
       "4  31.12.2014          191981   275199  83384841  1.127468e+07       11394.0"
      ]
     },
     "execution_count": 5,
     "metadata": {},
     "output_type": "execute_result"
    }
   ],
   "source": [
    "# Sum sales per day.\n",
    "df = sales_data.copy()\n",
    "total_per_day = df.groupby('date').sum().sort_values(by=['item_cnt_day'], ascending = False).reset_index()\n",
    "total_per_day.head()"
   ]
  },
  {
   "cell_type": "code",
   "execution_count": 6,
   "metadata": {},
   "outputs": [
    {
     "data": {
      "image/png": "[encoded data removed]",
      "text/plain": [
       "<Figure size 504x288 with 1 Axes>"
      ]
     },
     "metadata": {
      "needs_background": "light"
     },
     "output_type": "display_data"
    }
   ],
   "source": [
    "fig, ax = plt.subplots(figsize=(7,4))\n",
    "plt.hist(total_per_day.item_cnt_day)\n",
    "ax.set (xlabel = \"Total Per Day\",\n",
    "        ylabel = \"Count\",\n",
    "        title = \"Distribution Per Day\")\n",
    "plt.show()"
   ]
  },
  {
   "cell_type": "code",
   "execution_count": 7,
   "metadata": {},
   "outputs": [
    {
     "data": {
      "text/html": [
       "<div>\n",
       "<style scoped>\n",
       "    .dataframe tbody tr th:only-of-type {\n",
       "        vertical-align: middle;\n",
       "    }\n",
       "\n",
       "    .dataframe tbody tr th {\n",
       "        vertical-align: top;\n",
       "    }\n",
       "\n",
       "    .dataframe thead th {\n",
       "        text-align: right;\n",
       "    }\n",
       "</style>\n",
       "<table border=\"1\" class=\"dataframe\">\n",
       "  <thead>\n",
       "    <tr style=\"text-align: right;\">\n",
       "      <th></th>\n",
       "      <th>date_block_num</th>\n",
       "      <th>shop_id</th>\n",
       "      <th>item_id</th>\n",
       "      <th>item_price</th>\n",
       "      <th>item_cnt_day</th>\n",
       "    </tr>\n",
       "  </thead>\n",
       "  <tbody>\n",
       "    <tr>\n",
       "      <th>0</th>\n",
       "      <td>11</td>\n",
       "      <td>4747485</td>\n",
       "      <td>1424369716</td>\n",
       "      <td>1.431799e+08</td>\n",
       "      <td>183342.0</td>\n",
       "    </tr>\n",
       "    <tr>\n",
       "      <th>1</th>\n",
       "      <td>23</td>\n",
       "      <td>4339498</td>\n",
       "      <td>1330492992</td>\n",
       "      <td>1.794057e+08</td>\n",
       "      <td>168755.0</td>\n",
       "    </tr>\n",
       "    <tr>\n",
       "      <th>2</th>\n",
       "      <td>2</td>\n",
       "      <td>4016457</td>\n",
       "      <td>1220911622</td>\n",
       "      <td>8.429831e+07</td>\n",
       "      <td>147142.0</td>\n",
       "    </tr>\n",
       "    <tr>\n",
       "      <th>3</th>\n",
       "      <td>8</td>\n",
       "      <td>3208314</td>\n",
       "      <td>957871641</td>\n",
       "      <td>7.270157e+07</td>\n",
       "      <td>133332.0</td>\n",
       "    </tr>\n",
       "    <tr>\n",
       "      <th>4</th>\n",
       "      <td>0</td>\n",
       "      <td>3417068</td>\n",
       "      <td>1183971787</td>\n",
       "      <td>8.221187e+07</td>\n",
       "      <td>131479.0</td>\n",
       "    </tr>\n",
       "  </tbody>\n",
       "</table>\n",
       "</div>"
      ],
      "text/plain": [
       "   date_block_num  shop_id     item_id    item_price  item_cnt_day\n",
       "0              11  4747485  1424369716  1.431799e+08      183342.0\n",
       "1              23  4339498  1330492992  1.794057e+08      168755.0\n",
       "2               2  4016457  1220911622  8.429831e+07      147142.0\n",
       "3               8  3208314   957871641  7.270157e+07      133332.0\n",
       "4               0  3417068  1183971787  8.221187e+07      131479.0"
      ]
     },
     "execution_count": 7,
     "metadata": {},
     "output_type": "execute_result"
    }
   ],
   "source": [
    "# Sum sales per month\n",
    "total_per_month = df.groupby('date_block_num').sum().sort_values(by=['item_cnt_day'], ascending = False).reset_index()\n",
    "total_per_month.head()"
   ]
  },
  {
   "cell_type": "code",
   "execution_count": 8,
   "metadata": {},
   "outputs": [
    {
     "data": {
      "image/png": "[encoded data removed]",
      "text/plain": [
       "<Figure size 720x288 with 1 Axes>"
      ]
     },
     "metadata": {
      "needs_background": "light"
     },
     "output_type": "display_data"
    },
    {
     "name": "stdout",
     "output_type": "stream",
     "text": [
      "Max:183342.0\n",
      "Min:63187.0\n",
      "Mean:107300.17647058824\n"
     ]
    }
   ],
   "source": [
    "fig, ax = plt.subplots(figsize=(10,4))\n",
    "sns.barplot(total_per_month.date_block_num, total_per_month.item_cnt_day)\n",
    "ax.set (xlabel = \"Month - 0: January 2013, 1: February 2013 ... 33: October 2015\",\n",
    "        ylabel = \"Total Items\",\n",
    "        title = \"Fig. 1 - Sales Per Month\")\n",
    "plt.show()\n",
    "print(\"Max:{}\".format(total_per_month.item_cnt_day.max()))\n",
    "print(\"Min:{}\".format(total_per_month.item_cnt_day.min()))\n",
    "print(\"Mean:{}\".format(total_per_month.item_cnt_day.mean()))"
   ]
  },
  {
   "cell_type": "markdown",
   "metadata": {},
   "source": [
    "It can be seen that December are the months with higher sales (month 11 and 13). Also is observed that there is a trend of progressive decrease in sales year after year.\n",
    "\n",
    "Test set is made up of (shop, item) pairs so we should explorer how is the behaviour of sales respect to the shops."
   ]
  },
  {
   "cell_type": "code",
   "execution_count": 9,
   "metadata": {},
   "outputs": [
    {
     "data": {
      "text/html": [
       "<div>\n",
       "<style scoped>\n",
       "    .dataframe tbody tr th:only-of-type {\n",
       "        vertical-align: middle;\n",
       "    }\n",
       "\n",
       "    .dataframe tbody tr th {\n",
       "        vertical-align: top;\n",
       "    }\n",
       "\n",
       "    .dataframe thead th {\n",
       "        text-align: right;\n",
       "    }\n",
       "</style>\n",
       "<table border=\"1\" class=\"dataframe\">\n",
       "  <thead>\n",
       "    <tr style=\"text-align: right;\">\n",
       "      <th></th>\n",
       "      <th>shop_id</th>\n",
       "      <th>date_block_num</th>\n",
       "      <th>item_id</th>\n",
       "      <th>item_price</th>\n",
       "      <th>item_cnt_day</th>\n",
       "    </tr>\n",
       "  </thead>\n",
       "  <tbody>\n",
       "    <tr>\n",
       "      <th>0</th>\n",
       "      <td>31</td>\n",
       "      <td>3519304</td>\n",
       "      <td>2613938432</td>\n",
       "      <td>1.707634e+08</td>\n",
       "      <td>310777.0</td>\n",
       "    </tr>\n",
       "    <tr>\n",
       "      <th>1</th>\n",
       "      <td>25</td>\n",
       "      <td>2803911</td>\n",
       "      <td>2017578669</td>\n",
       "      <td>1.555576e+08</td>\n",
       "      <td>241920.0</td>\n",
       "    </tr>\n",
       "    <tr>\n",
       "      <th>2</th>\n",
       "      <td>54</td>\n",
       "      <td>1700597</td>\n",
       "      <td>1575568395</td>\n",
       "      <td>1.096694e+08</td>\n",
       "      <td>185790.0</td>\n",
       "    </tr>\n",
       "    <tr>\n",
       "      <th>3</th>\n",
       "      <td>28</td>\n",
       "      <td>2106668</td>\n",
       "      <td>1503076500</td>\n",
       "      <td>1.252947e+08</td>\n",
       "      <td>184557.0</td>\n",
       "    </tr>\n",
       "    <tr>\n",
       "      <th>4</th>\n",
       "      <td>42</td>\n",
       "      <td>1762898</td>\n",
       "      <td>1149534465</td>\n",
       "      <td>1.015515e+08</td>\n",
       "      <td>144934.0</td>\n",
       "    </tr>\n",
       "  </tbody>\n",
       "</table>\n",
       "</div>"
      ],
      "text/plain": [
       "   shop_id  date_block_num     item_id    item_price  item_cnt_day\n",
       "0       31         3519304  2613938432  1.707634e+08      310777.0\n",
       "1       25         2803911  2017578669  1.555576e+08      241920.0\n",
       "2       54         1700597  1575568395  1.096694e+08      185790.0\n",
       "3       28         2106668  1503076500  1.252947e+08      184557.0\n",
       "4       42         1762898  1149534465  1.015515e+08      144934.0"
      ]
     },
     "execution_count": 9,
     "metadata": {},
     "output_type": "execute_result"
    }
   ],
   "source": [
    "# Sum sales per shop\n",
    "total_per_shop = df.groupby('shop_id').sum().sort_values(by=['item_cnt_day'], ascending = False).reset_index()\n",
    "total_per_shop.head()"
   ]
  },
  {
   "cell_type": "code",
   "execution_count": 10,
   "metadata": {},
   "outputs": [
    {
     "data": {
      "image/png": "[encoded data removed]",
      "text/plain": [
       "<Figure size 1080x288 with 1 Axes>"
      ]
     },
     "metadata": {
      "needs_background": "light"
     },
     "output_type": "display_data"
    }
   ],
   "source": [
    "fig, ax = plt.subplots(figsize=(15,4))\n",
    "sns.barplot(total_per_shop.shop_id, total_per_shop.item_cnt_day)\n",
    "ax.set (xlabel = \"Shop ID\",\n",
    "        ylabel = \"Total Items\",\n",
    "        title = \"Sales per Shop\")\n",
    "plt.show()"
   ]
  },
  {
   "cell_type": "markdown",
   "metadata": {},
   "source": [
    "Next, it is investigate if the individual behaviour of shops over time is similar to the one observed in Fig 1. At first place, are considered the shops with less sales (i.e: shop ID 8, 40)"
   ]
  },
  {
   "cell_type": "code",
   "execution_count": 11,
   "metadata": {},
   "outputs": [
    {
     "data": {
      "text/html": [
       "<div>\n",
       "<style scoped>\n",
       "    .dataframe tbody tr th:only-of-type {\n",
       "        vertical-align: middle;\n",
       "    }\n",
       "\n",
       "    .dataframe tbody tr th {\n",
       "        vertical-align: top;\n",
       "    }\n",
       "\n",
       "    .dataframe thead th {\n",
       "        text-align: right;\n",
       "    }\n",
       "</style>\n",
       "<table border=\"1\" class=\"dataframe\">\n",
       "  <thead>\n",
       "    <tr style=\"text-align: right;\">\n",
       "      <th></th>\n",
       "      <th>date_block_num</th>\n",
       "      <th>shop_id</th>\n",
       "      <th>item_id</th>\n",
       "      <th>item_price</th>\n",
       "      <th>item_cnt_day</th>\n",
       "    </tr>\n",
       "  </thead>\n",
       "  <tbody>\n",
       "    <tr>\n",
       "      <th>0</th>\n",
       "      <td>0</td>\n",
       "      <td>11112</td>\n",
       "      <td>13864194</td>\n",
       "      <td>902495.500</td>\n",
       "      <td>1463.0</td>\n",
       "    </tr>\n",
       "    <tr>\n",
       "      <th>1</th>\n",
       "      <td>1</td>\n",
       "      <td>8736</td>\n",
       "      <td>11074599</td>\n",
       "      <td>721811.395</td>\n",
       "      <td>1156.0</td>\n",
       "    </tr>\n",
       "    <tr>\n",
       "      <th>2</th>\n",
       "      <td>2</td>\n",
       "      <td>7440</td>\n",
       "      <td>9308031</td>\n",
       "      <td>601366.810</td>\n",
       "      <td>977.0</td>\n",
       "    </tr>\n",
       "    <tr>\n",
       "      <th>3</th>\n",
       "      <td>3</td>\n",
       "      <td>8</td>\n",
       "      <td>4809</td>\n",
       "      <td>599.000</td>\n",
       "      <td>-1.0</td>\n",
       "    </tr>\n",
       "  </tbody>\n",
       "</table>\n",
       "</div>"
      ],
      "text/plain": [
       "   date_block_num  shop_id   item_id  item_price  item_cnt_day\n",
       "0               0    11112  13864194  902495.500        1463.0\n",
       "1               1     8736  11074599  721811.395        1156.0\n",
       "2               2     7440   9308031  601366.810         977.0\n",
       "3               3        8      4809     599.000          -1.0"
      ]
     },
     "execution_count": 11,
     "metadata": {},
     "output_type": "execute_result"
    }
   ],
   "source": [
    "df1 = df[df['shop_id'] == 8]\n",
    "total_shop_low1 = df1.groupby('date_block_num').sum().sort_values(by=['item_cnt_day'], ascending = False).reset_index()\n",
    "total_shop_low1"
   ]
  },
  {
   "cell_type": "markdown",
   "metadata": {},
   "source": [
    "There is somenthing that seems interesting. This shop was open 4 months only. This is a situation that can be found in others shops."
   ]
  },
  {
   "cell_type": "code",
   "execution_count": 12,
   "metadata": {},
   "outputs": [
    {
     "data": {
      "text/html": [
       "<div>\n",
       "<style scoped>\n",
       "    .dataframe tbody tr th:only-of-type {\n",
       "        vertical-align: middle;\n",
       "    }\n",
       "\n",
       "    .dataframe tbody tr th {\n",
       "        vertical-align: top;\n",
       "    }\n",
       "\n",
       "    .dataframe thead th {\n",
       "        text-align: right;\n",
       "    }\n",
       "</style>\n",
       "<table border=\"1\" class=\"dataframe\">\n",
       "  <thead>\n",
       "    <tr style=\"text-align: right;\">\n",
       "      <th></th>\n",
       "      <th>shop_name</th>\n",
       "      <th>shop_id</th>\n",
       "      <th>months_open</th>\n",
       "    </tr>\n",
       "  </thead>\n",
       "  <tbody>\n",
       "    <tr>\n",
       "      <th>0</th>\n",
       "      <td>!Якутск Орджоникидзе, 56 фран</td>\n",
       "      <td>0</td>\n",
       "      <td>2</td>\n",
       "    </tr>\n",
       "    <tr>\n",
       "      <th>1</th>\n",
       "      <td>!Якутск ТЦ \"Центральный\" фран</td>\n",
       "      <td>1</td>\n",
       "      <td>2</td>\n",
       "    </tr>\n",
       "    <tr>\n",
       "      <th>2</th>\n",
       "      <td>Адыгея ТЦ \"Мега\"</td>\n",
       "      <td>2</td>\n",
       "      <td>34</td>\n",
       "    </tr>\n",
       "    <tr>\n",
       "      <th>3</th>\n",
       "      <td>Балашиха ТРК \"Октябрь-Киномир\"</td>\n",
       "      <td>3</td>\n",
       "      <td>34</td>\n",
       "    </tr>\n",
       "    <tr>\n",
       "      <th>4</th>\n",
       "      <td>Волжский ТЦ \"Волга Молл\"</td>\n",
       "      <td>4</td>\n",
       "      <td>34</td>\n",
       "    </tr>\n",
       "  </tbody>\n",
       "</table>\n",
       "</div>"
      ],
      "text/plain": [
       "                        shop_name  shop_id  months_open\n",
       "0   !Якутск Орджоникидзе, 56 фран        0            2\n",
       "1   !Якутск ТЦ \"Центральный\" фран        1            2\n",
       "2                Адыгея ТЦ \"Мега\"        2           34\n",
       "3  Балашиха ТРК \"Октябрь-Киномир\"        3           34\n",
       "4        Волжский ТЦ \"Волга Молл\"        4           34"
      ]
     },
     "execution_count": 12,
     "metadata": {},
     "output_type": "execute_result"
    }
   ],
   "source": [
    "# A new feature is added to the shops_data dataframe, to identify how many months the shop was open.\n",
    "\n",
    "shops_data_ft1 = shops_data.copy()\n",
    "months_open = [len(df[df['shop_id']==x].groupby(['date_block_num']).sum()) for x in shops_data_ft1.shop_id]\n",
    "shops_data_ft1['months_open'] = months_open\n",
    "shops_data_ft1.head()"
   ]
  },
  {
   "cell_type": "code",
   "execution_count": 13,
   "metadata": {},
   "outputs": [
    {
     "data": {
      "text/plain": [
       "32"
      ]
     },
     "execution_count": 13,
     "metadata": {},
     "output_type": "execute_result"
    }
   ],
   "source": [
    "len(shops_data_ft1[shops_data_ft1['months_open'] == 34])"
   ]
  },
  {
   "cell_type": "markdown",
   "metadata": {},
   "source": [
    "Out of 60 shops, only 32 remained open for all the 34 months. But is also possible, that some new shops were opened in the last months, and remain open in the month 34. "
   ]
  },
  {
   "cell_type": "code",
   "execution_count": 14,
   "metadata": {
    "scrolled": false
   },
   "outputs": [
    {
     "data": {
      "text/html": [
       "<div>\n",
       "<style scoped>\n",
       "    .dataframe tbody tr th:only-of-type {\n",
       "        vertical-align: middle;\n",
       "    }\n",
       "\n",
       "    .dataframe tbody tr th {\n",
       "        vertical-align: top;\n",
       "    }\n",
       "\n",
       "    .dataframe thead th {\n",
       "        text-align: right;\n",
       "    }\n",
       "</style>\n",
       "<table border=\"1\" class=\"dataframe\">\n",
       "  <thead>\n",
       "    <tr style=\"text-align: right;\">\n",
       "      <th></th>\n",
       "      <th>shop_name</th>\n",
       "      <th>shop_id</th>\n",
       "      <th>months_open</th>\n",
       "      <th>last_month_open</th>\n",
       "    </tr>\n",
       "  </thead>\n",
       "  <tbody>\n",
       "    <tr>\n",
       "      <th>0</th>\n",
       "      <td>!Якутск Орджоникидзе, 56 фран</td>\n",
       "      <td>0</td>\n",
       "      <td>2</td>\n",
       "      <td>False</td>\n",
       "    </tr>\n",
       "    <tr>\n",
       "      <th>1</th>\n",
       "      <td>!Якутск ТЦ \"Центральный\" фран</td>\n",
       "      <td>1</td>\n",
       "      <td>2</td>\n",
       "      <td>False</td>\n",
       "    </tr>\n",
       "    <tr>\n",
       "      <th>2</th>\n",
       "      <td>Адыгея ТЦ \"Мега\"</td>\n",
       "      <td>2</td>\n",
       "      <td>34</td>\n",
       "      <td>True</td>\n",
       "    </tr>\n",
       "    <tr>\n",
       "      <th>3</th>\n",
       "      <td>Балашиха ТРК \"Октябрь-Киномир\"</td>\n",
       "      <td>3</td>\n",
       "      <td>34</td>\n",
       "      <td>True</td>\n",
       "    </tr>\n",
       "    <tr>\n",
       "      <th>4</th>\n",
       "      <td>Волжский ТЦ \"Волга Молл\"</td>\n",
       "      <td>4</td>\n",
       "      <td>34</td>\n",
       "      <td>True</td>\n",
       "    </tr>\n",
       "  </tbody>\n",
       "</table>\n",
       "</div>"
      ],
      "text/plain": [
       "                        shop_name  shop_id  months_open  last_month_open\n",
       "0   !Якутск Орджоникидзе, 56 фран        0            2            False\n",
       "1   !Якутск ТЦ \"Центральный\" фран        1            2            False\n",
       "2                Адыгея ТЦ \"Мега\"        2           34             True\n",
       "3  Балашиха ТРК \"Октябрь-Киномир\"        3           34             True\n",
       "4        Волжский ТЦ \"Волга Молл\"        4           34             True"
      ]
     },
     "execution_count": 14,
     "metadata": {},
     "output_type": "execute_result"
    }
   ],
   "source": [
    "# This fetaure let us know if the shop was open in the last month of the time serie\n",
    "\n",
    "shops_data_ft2 = shops_data_ft1\n",
    "df_tempo = df[df['date_block_num'] == 33]\n",
    "last_month_open = np.sort(df_tempo['shop_id'].unique())\n",
    "last_month_open = [x in last_month_open for x in shops_data_ft2.shop_id]\n",
    "shops_data_ft2['last_month_open'] = last_month_open\n",
    "shops_data_ft2.head()"
   ]
  },
  {
   "cell_type": "code",
   "execution_count": 15,
   "metadata": {},
   "outputs": [
    {
     "data": {
      "text/plain": [
       "6"
      ]
     },
     "execution_count": 15,
     "metadata": {},
     "output_type": "execute_result"
    }
   ],
   "source": [
    "shop_range = sales_data.groupby(['shop_id']).date_block_num.agg(['min','max'])\n",
    "len(shop_range[shop_range['max']<22])"
   ]
  },
  {
   "cell_type": "markdown",
   "metadata": {},
   "source": [
    "6 shops were closed in the last year"
   ]
  },
  {
   "cell_type": "markdown",
   "metadata": {},
   "source": [
    "# **Test Data**"
   ]
  },
  {
   "cell_type": "markdown",
   "metadata": {},
   "source": [
    "Now, it is reviewed if the ***test set*** includes all the shops"
   ]
  },
  {
   "cell_type": "code",
   "execution_count": 16,
   "metadata": {},
   "outputs": [
    {
     "data": {
      "text/plain": [
       "42"
      ]
     },
     "execution_count": 16,
     "metadata": {},
     "output_type": "execute_result"
    }
   ],
   "source": [
    "len(test_data.shop_id.unique())"
   ]
  },
  {
   "cell_type": "markdown",
   "metadata": {},
   "source": [
    "It is clear that some shops has been excluded from test data."
   ]
  },
  {
   "cell_type": "code",
   "execution_count": 17,
   "metadata": {},
   "outputs": [
    {
     "data": {
      "text/html": [
       "<div>\n",
       "<style scoped>\n",
       "    .dataframe tbody tr th:only-of-type {\n",
       "        vertical-align: middle;\n",
       "    }\n",
       "\n",
       "    .dataframe tbody tr th {\n",
       "        vertical-align: top;\n",
       "    }\n",
       "\n",
       "    .dataframe thead th {\n",
       "        text-align: right;\n",
       "    }\n",
       "</style>\n",
       "<table border=\"1\" class=\"dataframe\">\n",
       "  <thead>\n",
       "    <tr style=\"text-align: right;\">\n",
       "      <th></th>\n",
       "      <th>shop_name</th>\n",
       "      <th>shop_id</th>\n",
       "      <th>months_open</th>\n",
       "      <th>last_month_open</th>\n",
       "      <th>is_test</th>\n",
       "    </tr>\n",
       "  </thead>\n",
       "  <tbody>\n",
       "    <tr>\n",
       "      <th>0</th>\n",
       "      <td>!Якутск Орджоникидзе, 56 фран</td>\n",
       "      <td>0</td>\n",
       "      <td>2</td>\n",
       "      <td>False</td>\n",
       "      <td>False</td>\n",
       "    </tr>\n",
       "    <tr>\n",
       "      <th>1</th>\n",
       "      <td>!Якутск ТЦ \"Центральный\" фран</td>\n",
       "      <td>1</td>\n",
       "      <td>2</td>\n",
       "      <td>False</td>\n",
       "      <td>False</td>\n",
       "    </tr>\n",
       "    <tr>\n",
       "      <th>2</th>\n",
       "      <td>Адыгея ТЦ \"Мега\"</td>\n",
       "      <td>2</td>\n",
       "      <td>34</td>\n",
       "      <td>True</td>\n",
       "      <td>True</td>\n",
       "    </tr>\n",
       "    <tr>\n",
       "      <th>3</th>\n",
       "      <td>Балашиха ТРК \"Октябрь-Киномир\"</td>\n",
       "      <td>3</td>\n",
       "      <td>34</td>\n",
       "      <td>True</td>\n",
       "      <td>True</td>\n",
       "    </tr>\n",
       "    <tr>\n",
       "      <th>4</th>\n",
       "      <td>Волжский ТЦ \"Волга Молл\"</td>\n",
       "      <td>4</td>\n",
       "      <td>34</td>\n",
       "      <td>True</td>\n",
       "      <td>True</td>\n",
       "    </tr>\n",
       "  </tbody>\n",
       "</table>\n",
       "</div>"
      ],
      "text/plain": [
       "                        shop_name  shop_id  months_open  last_month_open  \\\n",
       "0   !Якутск Орджоникидзе, 56 фран        0            2            False   \n",
       "1   !Якутск ТЦ \"Центральный\" фран        1            2            False   \n",
       "2                Адыгея ТЦ \"Мега\"        2           34             True   \n",
       "3  Балашиха ТРК \"Октябрь-Киномир\"        3           34             True   \n",
       "4        Волжский ТЦ \"Волга Молл\"        4           34             True   \n",
       "\n",
       "   is_test  \n",
       "0    False  \n",
       "1    False  \n",
       "2     True  \n",
       "3     True  \n",
       "4     True  "
      ]
     },
     "execution_count": 17,
     "metadata": {},
     "output_type": "execute_result"
    }
   ],
   "source": [
    "shops_data_tempo = shops_data_ft2\n",
    "is_test = [x in test_data.shop_id.unique() for x in shops_data_tempo.shop_id]\n",
    "shops_data_tempo['is_test'] = is_test\n",
    "\n",
    "shops_data_tempo.head()"
   ]
  },
  {
   "cell_type": "markdown",
   "metadata": {},
   "source": [
    "Acording to this, in the ***test set*** only are included the shops that are open at 34th month. The only exceptions are shops 9 y 20."
   ]
  },
  {
   "cell_type": "code",
   "execution_count": 18,
   "metadata": {},
   "outputs": [
    {
     "data": {
      "text/html": [
       "<div>\n",
       "<style scoped>\n",
       "    .dataframe tbody tr th:only-of-type {\n",
       "        vertical-align: middle;\n",
       "    }\n",
       "\n",
       "    .dataframe tbody tr th {\n",
       "        vertical-align: top;\n",
       "    }\n",
       "\n",
       "    .dataframe thead th {\n",
       "        text-align: right;\n",
       "    }\n",
       "</style>\n",
       "<table border=\"1\" class=\"dataframe\">\n",
       "  <thead>\n",
       "    <tr style=\"text-align: right;\">\n",
       "      <th></th>\n",
       "      <th>date_block_num</th>\n",
       "      <th>shop_id</th>\n",
       "      <th>item_id</th>\n",
       "      <th>item_price</th>\n",
       "      <th>item_cnt_day</th>\n",
       "    </tr>\n",
       "  </thead>\n",
       "  <tbody>\n",
       "    <tr>\n",
       "      <th>0</th>\n",
       "      <td>9</td>\n",
       "      <td>13392</td>\n",
       "      <td>17668038</td>\n",
       "      <td>1.617737e+06</td>\n",
       "      <td>6526.0</td>\n",
       "    </tr>\n",
       "    <tr>\n",
       "      <th>1</th>\n",
       "      <td>21</td>\n",
       "      <td>12753</td>\n",
       "      <td>18231529</td>\n",
       "      <td>1.839812e+06</td>\n",
       "      <td>6155.0</td>\n",
       "    </tr>\n",
       "    <tr>\n",
       "      <th>2</th>\n",
       "      <td>27</td>\n",
       "      <td>9</td>\n",
       "      <td>5672</td>\n",
       "      <td>3.190000e+03</td>\n",
       "      <td>-1.0</td>\n",
       "    </tr>\n",
       "    <tr>\n",
       "      <th>3</th>\n",
       "      <td>33</td>\n",
       "      <td>7605</td>\n",
       "      <td>13386757</td>\n",
       "      <td>1.253564e+06</td>\n",
       "      <td>3186.0</td>\n",
       "    </tr>\n",
       "  </tbody>\n",
       "</table>\n",
       "</div>"
      ],
      "text/plain": [
       "   date_block_num  shop_id   item_id    item_price  item_cnt_day\n",
       "0               9    13392  17668038  1.617737e+06        6526.0\n",
       "1              21    12753  18231529  1.839812e+06        6155.0\n",
       "2              27        9      5672  3.190000e+03          -1.0\n",
       "3              33     7605  13386757  1.253564e+06        3186.0"
      ]
     },
     "execution_count": 18,
     "metadata": {},
     "output_type": "execute_result"
    }
   ],
   "source": [
    "df_tempo = df[df['shop_id'] == 9]\n",
    "total_shop_tempo = df_tempo.groupby('date_block_num').sum().sort_values(by=['date_block_num'], ascending = True).reset_index()\n",
    "total_shop_tempo"
   ]
  },
  {
   "cell_type": "code",
   "execution_count": 19,
   "metadata": {},
   "outputs": [
    {
     "data": {
      "text/html": [
       "<div>\n",
       "<style scoped>\n",
       "    .dataframe tbody tr th:only-of-type {\n",
       "        vertical-align: middle;\n",
       "    }\n",
       "\n",
       "    .dataframe tbody tr th {\n",
       "        vertical-align: top;\n",
       "    }\n",
       "\n",
       "    .dataframe thead th {\n",
       "        text-align: right;\n",
       "    }\n",
       "</style>\n",
       "<table border=\"1\" class=\"dataframe\">\n",
       "  <thead>\n",
       "    <tr style=\"text-align: right;\">\n",
       "      <th></th>\n",
       "      <th>date_block_num</th>\n",
       "      <th>shop_id</th>\n",
       "      <th>item_id</th>\n",
       "      <th>item_price</th>\n",
       "      <th>item_cnt_day</th>\n",
       "    </tr>\n",
       "  </thead>\n",
       "  <tbody>\n",
       "    <tr>\n",
       "      <th>0</th>\n",
       "      <td>21</td>\n",
       "      <td>18900</td>\n",
       "      <td>16550232</td>\n",
       "      <td>1.150218e+06</td>\n",
       "      <td>3261.0</td>\n",
       "    </tr>\n",
       "    <tr>\n",
       "      <th>1</th>\n",
       "      <td>33</td>\n",
       "      <td>16940</td>\n",
       "      <td>13563669</td>\n",
       "      <td>1.239048e+06</td>\n",
       "      <td>2611.0</td>\n",
       "    </tr>\n",
       "  </tbody>\n",
       "</table>\n",
       "</div>"
      ],
      "text/plain": [
       "   date_block_num  shop_id   item_id    item_price  item_cnt_day\n",
       "0              21    18900  16550232  1.150218e+06        3261.0\n",
       "1              33    16940  13563669  1.239048e+06        2611.0"
      ]
     },
     "execution_count": 19,
     "metadata": {},
     "output_type": "execute_result"
    }
   ],
   "source": [
    "df_tempo = df[df['shop_id'] == 20]\n",
    "total_shop_tempo = df_tempo.groupby('date_block_num').sum().sort_values(by=['date_block_num'], ascending = True).reset_index()\n",
    "total_shop_tempo"
   ]
  },
  {
   "cell_type": "markdown",
   "metadata": {},
   "source": [
    "Those two shops, looks like it just has been re-opened in the month 33. Therefore, the information that those two shops deliver seems not to be meaningful. "
   ]
  },
  {
   "cell_type": "markdown",
   "metadata": {},
   "source": [
    "Now, it is reviewed if the ***test set*** includes all the items that are included in the ***training set***"
   ]
  },
  {
   "cell_type": "code",
   "execution_count": 20,
   "metadata": {},
   "outputs": [
    {
     "name": "stdout",
     "output_type": "stream",
     "text": [
      "Items in training set 21807\n",
      "Items in test set 5100\n"
     ]
    }
   ],
   "source": [
    "print('Items in training set %i' % len(sales_data.item_id.unique()))\n",
    "print('Items in test set %i' % len(test_data.item_id.unique()))"
   ]
  },
  {
   "cell_type": "code",
   "execution_count": 21,
   "metadata": {
    "scrolled": true
   },
   "outputs": [
    {
     "data": {
      "text/plain": [
       "9633"
      ]
     },
     "execution_count": 21,
     "metadata": {},
     "output_type": "execute_result"
    }
   ],
   "source": [
    "item_range = sales_data.groupby(['item_id']).date_block_num.agg(['min','max'])\n",
    "len(item_range[item_range['max']<22])"
   ]
  },
  {
   "cell_type": "markdown",
   "metadata": {},
   "source": [
    "9633 products were not sold in the last year"
   ]
  },
  {
   "cell_type": "markdown",
   "metadata": {},
   "source": [
    "# **Feature Engineering**"
   ]
  },
  {
   "cell_type": "code",
   "execution_count": 22,
   "metadata": {
    "scrolled": false
   },
   "outputs": [],
   "source": [
    "pd.options.mode.chained_assignment = None\n",
    "\n",
    "# Products and shops that were not active in the last year won't be considered in the training set\n",
    "\n",
    "# Not Active Products\n",
    "\n",
    "item_range = item_range.reset_index()\n",
    "item_range_not = item_range[item_range['max']<22]\n",
    "item_range_not.loc[:,'not_active_item'] = 1\n",
    "sales_data_df1 = pd.merge(sales_data, item_range_not[['not_active_item','item_id']], on='item_id', how='left').fillna(0)"
   ]
  },
  {
   "cell_type": "code",
   "execution_count": 23,
   "metadata": {},
   "outputs": [
    {
     "name": "stdout",
     "output_type": "stream",
     "text": [
      "(2431608, 6)\n"
     ]
    },
    {
     "data": {
      "text/html": [
       "<div>\n",
       "<style scoped>\n",
       "    .dataframe tbody tr th:only-of-type {\n",
       "        vertical-align: middle;\n",
       "    }\n",
       "\n",
       "    .dataframe tbody tr th {\n",
       "        vertical-align: top;\n",
       "    }\n",
       "\n",
       "    .dataframe thead th {\n",
       "        text-align: right;\n",
       "    }\n",
       "</style>\n",
       "<table border=\"1\" class=\"dataframe\">\n",
       "  <thead>\n",
       "    <tr style=\"text-align: right;\">\n",
       "      <th></th>\n",
       "      <th>date</th>\n",
       "      <th>date_block_num</th>\n",
       "      <th>shop_id</th>\n",
       "      <th>item_id</th>\n",
       "      <th>item_price</th>\n",
       "      <th>item_cnt_day</th>\n",
       "    </tr>\n",
       "  </thead>\n",
       "  <tbody>\n",
       "    <tr>\n",
       "      <th>0</th>\n",
       "      <td>02.01.2013</td>\n",
       "      <td>0</td>\n",
       "      <td>59</td>\n",
       "      <td>22154</td>\n",
       "      <td>999.0</td>\n",
       "      <td>1.0</td>\n",
       "    </tr>\n",
       "    <tr>\n",
       "      <th>1</th>\n",
       "      <td>03.01.2013</td>\n",
       "      <td>0</td>\n",
       "      <td>25</td>\n",
       "      <td>2552</td>\n",
       "      <td>899.0</td>\n",
       "      <td>1.0</td>\n",
       "    </tr>\n",
       "    <tr>\n",
       "      <th>2</th>\n",
       "      <td>05.01.2013</td>\n",
       "      <td>0</td>\n",
       "      <td>25</td>\n",
       "      <td>2552</td>\n",
       "      <td>899.0</td>\n",
       "      <td>-1.0</td>\n",
       "    </tr>\n",
       "    <tr>\n",
       "      <th>5</th>\n",
       "      <td>10.01.2013</td>\n",
       "      <td>0</td>\n",
       "      <td>25</td>\n",
       "      <td>2564</td>\n",
       "      <td>349.0</td>\n",
       "      <td>1.0</td>\n",
       "    </tr>\n",
       "    <tr>\n",
       "      <th>10</th>\n",
       "      <td>03.01.2013</td>\n",
       "      <td>0</td>\n",
       "      <td>25</td>\n",
       "      <td>2574</td>\n",
       "      <td>399.0</td>\n",
       "      <td>2.0</td>\n",
       "    </tr>\n",
       "  </tbody>\n",
       "</table>\n",
       "</div>"
      ],
      "text/plain": [
       "          date  date_block_num  shop_id  item_id  item_price  item_cnt_day\n",
       "0   02.01.2013               0       59    22154       999.0           1.0\n",
       "1   03.01.2013               0       25     2552       899.0           1.0\n",
       "2   05.01.2013               0       25     2552       899.0          -1.0\n",
       "5   10.01.2013               0       25     2564       349.0           1.0\n",
       "10  03.01.2013               0       25     2574       399.0           2.0"
      ]
     },
     "execution_count": 23,
     "metadata": {},
     "output_type": "execute_result"
    }
   ],
   "source": [
    "# Not active shops\n",
    "\n",
    "shop_range = shop_range.reset_index()\n",
    "shop_range_not = shop_range[shop_range['max']<22]\n",
    "shop_range_not.loc[:,'not_active_shop'] = 1\n",
    "sales_data_df2 = pd.merge(sales_data_df1, shop_range_not[['not_active_shop','shop_id']], on='shop_id', how='left').fillna(0)\n",
    "sales_data_df3 = sales_data_df2[(sales_data_df2['not_active_item']==0) & (sales_data_df2['not_active_shop']==0)]\n",
    "sales_data_df4 = sales_data_df3.drop(['not_active_item','not_active_shop'], axis=1)\n",
    "print(sales_data_df4.shape)\n",
    "sales_data_df4.head()"
   ]
  },
  {
   "cell_type": "code",
   "execution_count": 24,
   "metadata": {},
   "outputs": [],
   "source": [
    "## Initial Feature Matrix\n",
    "\n",
    "# Create \"grid\" with columns\n",
    "index_cols = ['shop_id', 'item_id', 'date_block_num']\n",
    "\n",
    "# For every month we create a grid from all shops/items combinations from that month\n",
    "grid = [] \n",
    "for block_num in sales_data_df4['date_block_num'].unique():\n",
    "    cur_shops = sales_data_df4.loc[sales_data_df4['date_block_num'] == block_num, 'shop_id'].unique()\n",
    "    cur_items = sales_data_df4.loc[sales_data_df4['date_block_num'] == block_num, 'item_id'].unique()\n",
    "    grid.append(np.array(list(product(*[cur_shops, cur_items, [block_num]])),dtype='int32'))\n",
    "\n",
    "# Turn the grid into a dataframe\n",
    "grid = pd.DataFrame(np.vstack(grid), columns = index_cols,dtype=np.int32)\n",
    "\n",
    "# Create target\n",
    "gb = sales_data_df4.groupby(index_cols,as_index=False).agg({'item_cnt_day':'sum'})\n",
    "gb.rename({'item_cnt_day':'target'}, axis = 1, inplace =True)\n",
    "all_data = pd.merge(grid, gb, how='left', on=index_cols)\n",
    "\n",
    "all_data['target'] = (all_data['target']\n",
    "                            .fillna(0)\n",
    "                            .clip(0,20))\n",
    "\n",
    "# Integrate test data with train data\n",
    "\n",
    "test_data['date_block_num'] = 34\n",
    "all_data = pd.concat([all_data, test_data], ignore_index=True, sort=False, keys=index_cols)\n",
    "all_data.fillna(0, inplace=True) # 34 month"
   ]
  },
  {
   "cell_type": "code",
   "execution_count": 25,
   "metadata": {},
   "outputs": [],
   "source": [
    "# Other Features\n",
    "\n",
    "gb = sales_data.groupby(['shop_id', 'date_block_num'],as_index=False).agg({'item_cnt_day':'sum'})\n",
    "gb.rename({'item_cnt_day':'target_shop'}, axis = 1, inplace =True)\n",
    "all_data = pd.merge(all_data, gb, how='left', on=['shop_id', 'date_block_num']).fillna(0)\n",
    "\n",
    "gb = sales_data.groupby(['item_id', 'date_block_num'],as_index=False).agg({'item_cnt_day':'sum'})\n",
    "gb.rename({'item_cnt_day':'target_item'}, axis = 1, inplace =True)\n",
    "all_data = pd.merge(all_data, gb, how='left', on=['item_id', 'date_block_num']).fillna(0)\n",
    "\n",
    "gb = sales_data.groupby(['item_id', 'date_block_num'],as_index=False).agg({'item_cnt_day':'mean'})\n",
    "gb.rename({'item_cnt_day':'target_item_mean'}, axis = 1, inplace =True)\n",
    "all_data = pd.merge(all_data, gb, how='left', on=['item_id', 'date_block_num']).fillna(0)"
   ]
  },
  {
   "cell_type": "code",
   "execution_count": 26,
   "metadata": {},
   "outputs": [],
   "source": [
    "# Downcast dtypes from 64 to 32 bit to save memory\n",
    "all_data = downcast_dtypes(all_data)\n",
    "del grid, gb \n",
    "gc.collect();\n",
    "\n",
    "# List of columns that we will use to create lags\n",
    "cols_to_rename = list(all_data.columns.difference(index_cols))"
   ]
  },
  {
   "cell_type": "code",
   "execution_count": 27,
   "metadata": {},
   "outputs": [
    {
     "data": {
      "text/html": [
       "<div>\n",
       "<style scoped>\n",
       "    .dataframe tbody tr th:only-of-type {\n",
       "        vertical-align: middle;\n",
       "    }\n",
       "\n",
       "    .dataframe tbody tr th {\n",
       "        vertical-align: top;\n",
       "    }\n",
       "\n",
       "    .dataframe thead th {\n",
       "        text-align: right;\n",
       "    }\n",
       "</style>\n",
       "<table border=\"1\" class=\"dataframe\">\n",
       "  <thead>\n",
       "    <tr style=\"text-align: right;\">\n",
       "      <th></th>\n",
       "      <th>shop_id</th>\n",
       "      <th>item_id</th>\n",
       "      <th>date_block_num</th>\n",
       "      <th>target</th>\n",
       "      <th>target_shop</th>\n",
       "      <th>target_item</th>\n",
       "      <th>target_item_mean</th>\n",
       "    </tr>\n",
       "  </thead>\n",
       "  <tbody>\n",
       "    <tr>\n",
       "      <th>0</th>\n",
       "      <td>59</td>\n",
       "      <td>22154</td>\n",
       "      <td>0</td>\n",
       "      <td>1.0</td>\n",
       "      <td>2017.0</td>\n",
       "      <td>18.0</td>\n",
       "      <td>1.000000</td>\n",
       "    </tr>\n",
       "    <tr>\n",
       "      <th>1</th>\n",
       "      <td>59</td>\n",
       "      <td>2552</td>\n",
       "      <td>0</td>\n",
       "      <td>0.0</td>\n",
       "      <td>2017.0</td>\n",
       "      <td>0.0</td>\n",
       "      <td>0.000000</td>\n",
       "    </tr>\n",
       "    <tr>\n",
       "      <th>2</th>\n",
       "      <td>59</td>\n",
       "      <td>2564</td>\n",
       "      <td>0</td>\n",
       "      <td>0.0</td>\n",
       "      <td>2017.0</td>\n",
       "      <td>5.0</td>\n",
       "      <td>1.000000</td>\n",
       "    </tr>\n",
       "    <tr>\n",
       "      <th>3</th>\n",
       "      <td>59</td>\n",
       "      <td>2574</td>\n",
       "      <td>0</td>\n",
       "      <td>2.0</td>\n",
       "      <td>2017.0</td>\n",
       "      <td>119.0</td>\n",
       "      <td>1.144231</td>\n",
       "    </tr>\n",
       "    <tr>\n",
       "      <th>4</th>\n",
       "      <td>59</td>\n",
       "      <td>2607</td>\n",
       "      <td>0</td>\n",
       "      <td>0.0</td>\n",
       "      <td>2017.0</td>\n",
       "      <td>29.0</td>\n",
       "      <td>1.000000</td>\n",
       "    </tr>\n",
       "  </tbody>\n",
       "</table>\n",
       "</div>"
      ],
      "text/plain": [
       "   shop_id  item_id  date_block_num  target  target_shop  target_item  \\\n",
       "0       59    22154               0     1.0       2017.0         18.0   \n",
       "1       59     2552               0     0.0       2017.0          0.0   \n",
       "2       59     2564               0     0.0       2017.0          5.0   \n",
       "3       59     2574               0     2.0       2017.0        119.0   \n",
       "4       59     2607               0     0.0       2017.0         29.0   \n",
       "\n",
       "   target_item_mean  \n",
       "0          1.000000  \n",
       "1          0.000000  \n",
       "2          1.000000  \n",
       "3          1.144231  \n",
       "4          1.000000  "
      ]
     },
     "execution_count": 27,
     "metadata": {},
     "output_type": "execute_result"
    }
   ],
   "source": [
    "all_data.head()"
   ]
  },
  {
   "cell_type": "code",
   "execution_count": 28,
   "metadata": {},
   "outputs": [
    {
     "name": "stderr",
     "output_type": "stream",
     "text": [
      "/home/ubuntu/anaconda3/lib/python3.7/site-packages/ipykernel_launcher.py:5: TqdmDeprecationWarning: This function will be removed in tqdm==5.0.0\n",
      "Please use `tqdm.notebook.tqdm` instead of `tqdm.tqdm_notebook`\n",
      "  \"\"\"\n"
     ]
    },
    {
     "data": {
      "application/vnd.jupyter.widget-view+json": {
       "model_id": "5873b3f705134580a68b812ce99a96b5",
       "version_major": 2,
       "version_minor": 0
      },
      "text/plain": [
       "HBox(children=(FloatProgress(value=0.0, max=4.0), HTML(value='')))"
      ]
     },
     "metadata": {},
     "output_type": "display_data"
    },
    {
     "name": "stdout",
     "output_type": "stream",
     "text": [
      "\n"
     ]
    }
   ],
   "source": [
    "## Time lag features\n",
    "\n",
    "shift_range = [1, 2, 3, 12]\n",
    "\n",
    "for month_shift in tqdm_notebook(shift_range):\n",
    "    train_shift = all_data[index_cols + cols_to_rename].copy()\n",
    "    \n",
    "    train_shift['date_block_num'] = train_shift['date_block_num'] + month_shift\n",
    "    \n",
    "    foo = lambda x: '{}_lag_{}_f'.format(x, month_shift) if x in cols_to_rename else x\n",
    "    train_shift = train_shift.rename(columns=foo)\n",
    "\n",
    "    all_data = pd.merge(all_data, train_shift, on=index_cols, how='left').fillna(0)\n",
    "\n",
    "del train_shift"
   ]
  },
  {
   "cell_type": "code",
   "execution_count": 29,
   "metadata": {},
   "outputs": [],
   "source": [
    "# List of all lagged features\n",
    "fit_cols = [col for col in all_data.columns if col[-1]=='f'] \n",
    "\n",
    "# We will drop these at fitting stage\n",
    "to_drop_cols = list(set(list(all_data.columns)) - (set(fit_cols)|set(index_cols))) + ['date_block_num'] \n",
    "\n",
    "# Category for each item\n",
    "item_category_mapping = items_data[['item_id','item_category_id']].drop_duplicates()\n",
    "\n",
    "all_data = pd.merge(all_data, item_category_mapping, how='left', on='item_id')\n",
    "all_data = downcast_dtypes(all_data)\n",
    "\n",
    "gc.collect();"
   ]
  },
  {
   "cell_type": "markdown",
   "metadata": {},
   "source": [
    "# **XGBoost Model**"
   ]
  },
  {
   "cell_type": "code",
   "execution_count": 30,
   "metadata": {},
   "outputs": [
    {
     "name": "stdout",
     "output_type": "stream",
     "text": [
      "(5870299, 24)\n"
     ]
    },
    {
     "data": {
      "text/html": [
       "<div>\n",
       "<style scoped>\n",
       "    .dataframe tbody tr th:only-of-type {\n",
       "        vertical-align: middle;\n",
       "    }\n",
       "\n",
       "    .dataframe tbody tr th {\n",
       "        vertical-align: top;\n",
       "    }\n",
       "\n",
       "    .dataframe thead th {\n",
       "        text-align: right;\n",
       "    }\n",
       "</style>\n",
       "<table border=\"1\" class=\"dataframe\">\n",
       "  <thead>\n",
       "    <tr style=\"text-align: right;\">\n",
       "      <th></th>\n",
       "      <th>shop_id</th>\n",
       "      <th>item_id</th>\n",
       "      <th>date_block_num</th>\n",
       "      <th>target</th>\n",
       "      <th>target_shop</th>\n",
       "      <th>target_item</th>\n",
       "      <th>target_item_mean</th>\n",
       "      <th>target_lag_1_f</th>\n",
       "      <th>target_item_lag_1_f</th>\n",
       "      <th>target_item_mean_lag_1_f</th>\n",
       "      <th>target_shop_lag_1_f</th>\n",
       "      <th>target_lag_2_f</th>\n",
       "      <th>target_item_lag_2_f</th>\n",
       "      <th>target_item_mean_lag_2_f</th>\n",
       "      <th>target_shop_lag_2_f</th>\n",
       "      <th>target_lag_3_f</th>\n",
       "      <th>target_item_lag_3_f</th>\n",
       "      <th>target_item_mean_lag_3_f</th>\n",
       "      <th>target_shop_lag_3_f</th>\n",
       "      <th>target_lag_12_f</th>\n",
       "      <th>target_item_lag_12_f</th>\n",
       "      <th>target_item_mean_lag_12_f</th>\n",
       "      <th>target_shop_lag_12_f</th>\n",
       "      <th>item_category_id</th>\n",
       "    </tr>\n",
       "  </thead>\n",
       "  <tbody>\n",
       "    <tr>\n",
       "      <th>1928302</th>\n",
       "      <td>54</td>\n",
       "      <td>10297</td>\n",
       "      <td>12</td>\n",
       "      <td>4.0</td>\n",
       "      <td>8198.0</td>\n",
       "      <td>23.0</td>\n",
       "      <td>1.000000</td>\n",
       "      <td>3.0</td>\n",
       "      <td>42.0</td>\n",
       "      <td>1.000000</td>\n",
       "      <td>10055.0</td>\n",
       "      <td>0.0</td>\n",
       "      <td>2.0</td>\n",
       "      <td>1.000000</td>\n",
       "      <td>7978.0</td>\n",
       "      <td>0.0</td>\n",
       "      <td>0.0</td>\n",
       "      <td>0.000000</td>\n",
       "      <td>0.0</td>\n",
       "      <td>0.0</td>\n",
       "      <td>0.0</td>\n",
       "      <td>0.0</td>\n",
       "      <td>0.0</td>\n",
       "      <td>37</td>\n",
       "    </tr>\n",
       "    <tr>\n",
       "      <th>1928303</th>\n",
       "      <td>54</td>\n",
       "      <td>10296</td>\n",
       "      <td>12</td>\n",
       "      <td>3.0</td>\n",
       "      <td>8198.0</td>\n",
       "      <td>17.0</td>\n",
       "      <td>1.000000</td>\n",
       "      <td>0.0</td>\n",
       "      <td>24.0</td>\n",
       "      <td>1.000000</td>\n",
       "      <td>10055.0</td>\n",
       "      <td>0.0</td>\n",
       "      <td>0.0</td>\n",
       "      <td>0.000000</td>\n",
       "      <td>0.0</td>\n",
       "      <td>0.0</td>\n",
       "      <td>0.0</td>\n",
       "      <td>0.000000</td>\n",
       "      <td>0.0</td>\n",
       "      <td>0.0</td>\n",
       "      <td>0.0</td>\n",
       "      <td>0.0</td>\n",
       "      <td>0.0</td>\n",
       "      <td>38</td>\n",
       "    </tr>\n",
       "    <tr>\n",
       "      <th>1928304</th>\n",
       "      <td>54</td>\n",
       "      <td>10298</td>\n",
       "      <td>12</td>\n",
       "      <td>14.0</td>\n",
       "      <td>8198.0</td>\n",
       "      <td>182.0</td>\n",
       "      <td>1.181818</td>\n",
       "      <td>20.0</td>\n",
       "      <td>369.0</td>\n",
       "      <td>1.308511</td>\n",
       "      <td>10055.0</td>\n",
       "      <td>20.0</td>\n",
       "      <td>1309.0</td>\n",
       "      <td>2.226191</td>\n",
       "      <td>7978.0</td>\n",
       "      <td>7.0</td>\n",
       "      <td>144.0</td>\n",
       "      <td>2.526316</td>\n",
       "      <td>6676.0</td>\n",
       "      <td>0.0</td>\n",
       "      <td>0.0</td>\n",
       "      <td>0.0</td>\n",
       "      <td>0.0</td>\n",
       "      <td>40</td>\n",
       "    </tr>\n",
       "    <tr>\n",
       "      <th>1928305</th>\n",
       "      <td>54</td>\n",
       "      <td>10300</td>\n",
       "      <td>12</td>\n",
       "      <td>3.0</td>\n",
       "      <td>8198.0</td>\n",
       "      <td>26.0</td>\n",
       "      <td>0.962963</td>\n",
       "      <td>1.0</td>\n",
       "      <td>54.0</td>\n",
       "      <td>1.058824</td>\n",
       "      <td>10055.0</td>\n",
       "      <td>20.0</td>\n",
       "      <td>361.0</td>\n",
       "      <td>1.367424</td>\n",
       "      <td>7978.0</td>\n",
       "      <td>0.0</td>\n",
       "      <td>53.0</td>\n",
       "      <td>1.606061</td>\n",
       "      <td>6676.0</td>\n",
       "      <td>0.0</td>\n",
       "      <td>0.0</td>\n",
       "      <td>0.0</td>\n",
       "      <td>0.0</td>\n",
       "      <td>37</td>\n",
       "    </tr>\n",
       "    <tr>\n",
       "      <th>1928306</th>\n",
       "      <td>54</td>\n",
       "      <td>10284</td>\n",
       "      <td>12</td>\n",
       "      <td>1.0</td>\n",
       "      <td>8198.0</td>\n",
       "      <td>3.0</td>\n",
       "      <td>1.000000</td>\n",
       "      <td>0.0</td>\n",
       "      <td>4.0</td>\n",
       "      <td>1.000000</td>\n",
       "      <td>10055.0</td>\n",
       "      <td>0.0</td>\n",
       "      <td>3.0</td>\n",
       "      <td>1.000000</td>\n",
       "      <td>7978.0</td>\n",
       "      <td>0.0</td>\n",
       "      <td>5.0</td>\n",
       "      <td>1.000000</td>\n",
       "      <td>6676.0</td>\n",
       "      <td>0.0</td>\n",
       "      <td>0.0</td>\n",
       "      <td>0.0</td>\n",
       "      <td>0.0</td>\n",
       "      <td>57</td>\n",
       "    </tr>\n",
       "  </tbody>\n",
       "</table>\n",
       "</div>"
      ],
      "text/plain": [
       "         shop_id  item_id  date_block_num  target  target_shop  target_item  \\\n",
       "1928302       54    10297              12     4.0       8198.0         23.0   \n",
       "1928303       54    10296              12     3.0       8198.0         17.0   \n",
       "1928304       54    10298              12    14.0       8198.0        182.0   \n",
       "1928305       54    10300              12     3.0       8198.0         26.0   \n",
       "1928306       54    10284              12     1.0       8198.0          3.0   \n",
       "\n",
       "         target_item_mean  target_lag_1_f  target_item_lag_1_f  \\\n",
       "1928302          1.000000             3.0                 42.0   \n",
       "1928303          1.000000             0.0                 24.0   \n",
       "1928304          1.181818            20.0                369.0   \n",
       "1928305          0.962963             1.0                 54.0   \n",
       "1928306          1.000000             0.0                  4.0   \n",
       "\n",
       "         target_item_mean_lag_1_f  target_shop_lag_1_f  target_lag_2_f  \\\n",
       "1928302                  1.000000              10055.0             0.0   \n",
       "1928303                  1.000000              10055.0             0.0   \n",
       "1928304                  1.308511              10055.0            20.0   \n",
       "1928305                  1.058824              10055.0            20.0   \n",
       "1928306                  1.000000              10055.0             0.0   \n",
       "\n",
       "         target_item_lag_2_f  target_item_mean_lag_2_f  target_shop_lag_2_f  \\\n",
       "1928302                  2.0                  1.000000               7978.0   \n",
       "1928303                  0.0                  0.000000                  0.0   \n",
       "1928304               1309.0                  2.226191               7978.0   \n",
       "1928305                361.0                  1.367424               7978.0   \n",
       "1928306                  3.0                  1.000000               7978.0   \n",
       "\n",
       "         target_lag_3_f  target_item_lag_3_f  target_item_mean_lag_3_f  \\\n",
       "1928302             0.0                  0.0                  0.000000   \n",
       "1928303             0.0                  0.0                  0.000000   \n",
       "1928304             7.0                144.0                  2.526316   \n",
       "1928305             0.0                 53.0                  1.606061   \n",
       "1928306             0.0                  5.0                  1.000000   \n",
       "\n",
       "         target_shop_lag_3_f  target_lag_12_f  target_item_lag_12_f  \\\n",
       "1928302                  0.0              0.0                   0.0   \n",
       "1928303                  0.0              0.0                   0.0   \n",
       "1928304               6676.0              0.0                   0.0   \n",
       "1928305               6676.0              0.0                   0.0   \n",
       "1928306               6676.0              0.0                   0.0   \n",
       "\n",
       "         target_item_mean_lag_12_f  target_shop_lag_12_f  item_category_id  \n",
       "1928302                        0.0                   0.0                37  \n",
       "1928303                        0.0                   0.0                38  \n",
       "1928304                        0.0                   0.0                40  \n",
       "1928305                        0.0                   0.0                37  \n",
       "1928306                        0.0                   0.0                57  "
      ]
     },
     "execution_count": 30,
     "metadata": {},
     "output_type": "execute_result"
    }
   ],
   "source": [
    "# Max lag 12 months, first 12 months are not considered\n",
    "all_data_df1 = all_data[all_data['date_block_num'] > 11]  \n",
    "print(all_data_df1.shape)\n",
    "all_data_df1.head()"
   ]
  },
  {
   "cell_type": "code",
   "execution_count": 31,
   "metadata": {},
   "outputs": [],
   "source": [
    "# Training/Validation/Test Split\n",
    "\n",
    "dates = all_data_df1['date_block_num']\n",
    "\n",
    "last_block = dates.max()\n",
    "\n",
    "dates_train = dates[dates <  last_block-1]\n",
    "dates_val  = dates[dates == last_block-1]\n",
    "dates_test  = dates[dates == last_block]\n",
    "\n",
    "X_train = all_data_df1.loc[dates <  last_block-1].drop(to_drop_cols, axis=1)\n",
    "X_val =  all_data_df1.loc[dates == last_block-1].drop(to_drop_cols, axis=1)\n",
    "X_test = all_data_df1.loc[dates == last_block].drop(to_drop_cols, axis=1)\n",
    "\n",
    "y_train = all_data_df1.loc[dates <  last_block-1, 'target'].values\n",
    "y_val =  all_data_df1.loc[dates == last_block-1, 'target'].values\n",
    "y_test =  all_data_df1.loc[dates == last_block, 'target'].values"
   ]
  },
  {
   "cell_type": "code",
   "execution_count": 32,
   "metadata": {
    "scrolled": false
   },
   "outputs": [
    {
     "name": "stdout",
     "output_type": "stream",
     "text": [
      "[17:58:27] WARNING: src/objective/regression_obj.cu:152: reg:linear is now deprecated in favor of reg:squarederror.\n",
      "[17:58:27] WARNING: src/learner.cc:686: Tree method is automatically selected to be 'approx' for faster speed. To use old behavior (exact greedy algorithm on single machine), set tree_method to 'exact'.\n"
     ]
    },
    {
     "data": {
      "text/plain": [
       "4250.455169916153"
      ]
     },
     "execution_count": 32,
     "metadata": {},
     "output_type": "execute_result"
    }
   ],
   "source": [
    "# XGboost training takes  about 1.18 hours  (8CPU 32GB RAM). The serialized model is available in the next cell\n",
    "\n",
    "ts = time.time()\n",
    "\n",
    "model = XGBRegressor(\n",
    "    max_depth=8,\n",
    "    n_estimators=1000,\n",
    "    min_child_weight=300, \n",
    "    colsample_bytree=0.8, \n",
    "    subsample=0.8, \n",
    "    eta=0.3,    \n",
    "    seed=42)\n",
    "\n",
    "model.fit(\n",
    "    X_train, \n",
    "    y_train, \n",
    "    eval_metric=\"rmse\", \n",
    "    eval_set=[(X_train, y_train), (X_val, y_val)], \n",
    "    verbose=False, \n",
    "    early_stopping_rounds = 10)\n",
    "\n",
    "time.time() - ts"
   ]
  },
  {
   "cell_type": "code",
   "execution_count": 33,
   "metadata": {},
   "outputs": [],
   "source": [
    "#import pickle\n",
    "\n",
    "# Serialized model\n",
    "#model = pickle.load(open('XGBFrstLevel.pickle' , 'rb'))"
   ]
  },
  {
   "cell_type": "code",
   "execution_count": 34,
   "metadata": {},
   "outputs": [
    {
     "name": "stdout",
     "output_type": "stream",
     "text": [
      "0.92093885\n"
     ]
    }
   ],
   "source": [
    "pred_xgb = model.predict(X_val)\n",
    "rmse_cl = np.sqrt(mean_squared_error(y_val, pred_xgb))\n",
    "print(rmse_cl)"
   ]
  },
  {
   "cell_type": "code",
   "execution_count": 35,
   "metadata": {},
   "outputs": [
    {
     "data": {
      "image/png": "[encoded data removed]",
      "text/plain": [
       "<Figure size 432x288 with 1 Axes>"
      ]
     },
     "metadata": {
      "needs_background": "light"
     },
     "output_type": "display_data"
    }
   ],
   "source": [
    "from xgboost import plot_importance\n",
    "from matplotlib import pyplot\n",
    "\n",
    "#Feature Importance\n",
    "\n",
    "plot_importance(model)\n",
    "pyplot.show()"
   ]
  },
  {
   "cell_type": "code",
   "execution_count": 36,
   "metadata": {},
   "outputs": [],
   "source": [
    "y_test = model.predict(X_test)\n",
    "\n",
    "submission = pd.DataFrame({\n",
    "    \"ID\": test_data.index, \n",
    "    \"item_cnt_month\": y_test\n",
    "})\n",
    "submission.to_csv('final_submission.csv', index=False)"
   ]
  },
  {
   "cell_type": "markdown",
   "metadata": {},
   "source": [
    "# **Ensembling**"
   ]
  },
  {
   "cell_type": "code",
   "execution_count": 37,
   "metadata": {},
   "outputs": [
    {
     "name": "stdout",
     "output_type": "stream",
     "text": [
      "0.9715805128673884\n"
     ]
    }
   ],
   "source": [
    "del model\n",
    "gc.collect();\n",
    "\n",
    "lr = LinearRegression()\n",
    "lr.fit(X_train, y_train)\n",
    "pred_lr = lr.predict(X_val)\n",
    "\n",
    "rmse_cl = np.sqrt(mean_squared_error(y_val, pred_lr))\n",
    "print(rmse_cl)"
   ]
  },
  {
   "cell_type": "code",
   "execution_count": 38,
   "metadata": {},
   "outputs": [],
   "source": [
    "X_val_level2 = np.c_[pred_lr, pred_xgb] "
   ]
  },
  {
   "cell_type": "code",
   "execution_count": 39,
   "metadata": {},
   "outputs": [],
   "source": [
    "dates_train_level2 = dates_train[dates_train.isin([27, 28, 29, 30, 31, 32])]\n",
    "\n",
    "# That is how we get target for the 2nd level dataset\n",
    "y_train_level2 = y_train[dates_train.isin([27, 28, 29, 30, 31, 32])]"
   ]
  },
  {
   "cell_type": "code",
   "execution_count": 40,
   "metadata": {
    "scrolled": false
   },
   "outputs": [
    {
     "name": "stdout",
     "output_type": "stream",
     "text": [
      "27\n",
      "[19:09:32] WARNING: src/objective/regression_obj.cu:152: reg:linear is now deprecated in favor of reg:squarederror.\n",
      "28\n",
      "[19:16:35] WARNING: src/objective/regression_obj.cu:152: reg:linear is now deprecated in favor of reg:squarederror.\n",
      "[19:16:35] WARNING: src/learner.cc:686: Tree method is automatically selected to be 'approx' for faster speed. To use old behavior (exact greedy algorithm on single machine), set tree_method to 'exact'.\n",
      "29\n",
      "[19:36:41] WARNING: src/objective/regression_obj.cu:152: reg:linear is now deprecated in favor of reg:squarederror.\n",
      "[19:36:41] WARNING: src/learner.cc:686: Tree method is automatically selected to be 'approx' for faster speed. To use old behavior (exact greedy algorithm on single machine), set tree_method to 'exact'.\n",
      "30\n",
      "[20:12:15] WARNING: src/objective/regression_obj.cu:152: reg:linear is now deprecated in favor of reg:squarederror.\n",
      "[20:12:15] WARNING: src/learner.cc:686: Tree method is automatically selected to be 'approx' for faster speed. To use old behavior (exact greedy algorithm on single machine), set tree_method to 'exact'.\n",
      "31\n",
      "[20:38:15] WARNING: src/objective/regression_obj.cu:152: reg:linear is now deprecated in favor of reg:squarederror.\n",
      "[20:38:15] WARNING: src/learner.cc:686: Tree method is automatically selected to be 'approx' for faster speed. To use old behavior (exact greedy algorithm on single machine), set tree_method to 'exact'.\n",
      "32\n",
      "[21:45:55] WARNING: src/objective/regression_obj.cu:152: reg:linear is now deprecated in favor of reg:squarederror.\n",
      "[21:45:55] WARNING: src/learner.cc:686: Tree method is automatically selected to be 'approx' for faster speed. To use old behavior (exact greedy algorithm on single machine), set tree_method to 'exact'.\n"
     ]
    },
    {
     "data": {
      "text/plain": [
       "12348.1933426857"
      ]
     },
     "execution_count": 40,
     "metadata": {},
     "output_type": "execute_result"
    }
   ],
   "source": [
    "#Second Level Feature Matrix process takes about 3.43 hours  (8CPU 32GB RAM). \n",
    "#The serialized meta-features are available in the next cell\n",
    "\n",
    "ts = time.time()\n",
    "\n",
    "del lr \n",
    "gc.collect();\n",
    "\n",
    "# And here we create 2nd level feeature matrix, init it with zeros first\n",
    "X_train_level2 = np.zeros([y_train_level2.shape[0], 2])\n",
    "\n",
    "# Now fill `X_train_level2` with metafeatures\n",
    "for cur_block_num in [27, 28, 29, 30, 31, 32]:\n",
    "    \n",
    "    print(cur_block_num)   \n",
    "\n",
    "    X_tr = X_train[dates_train <  cur_block_num]\n",
    "    X_vl = X_train[dates_train == cur_block_num]\n",
    "\n",
    "    y_tr = y_train[dates_train <  cur_block_num]\n",
    "    y_vl = y_train[dates_train == cur_block_num]\n",
    "    \n",
    "    lr1 = LinearRegression()\n",
    "    lr1.fit(X_tr.values, y_tr)\n",
    "    pred_lr1 = lr1.predict(X_vl.values)\n",
    "    \n",
    "    model2 = XGBRegressor(\n",
    "        max_depth=8,\n",
    "        n_estimators=1000,\n",
    "        min_child_weight=300, \n",
    "        colsample_bytree=0.8, \n",
    "        subsample=0.8, \n",
    "        eta=0.3,    \n",
    "        seed=42)\n",
    "\n",
    "    model2.fit(\n",
    "        X_tr, \n",
    "        y_tr, \n",
    "        eval_metric=\"rmse\", \n",
    "        eval_set=[(X_tr, y_tr), (X_vl, y_vl)], \n",
    "        verbose=False, \n",
    "        early_stopping_rounds = 10)\n",
    "    \n",
    "    pred_xgb2 = model2.predict(X_vl)\n",
    "    \n",
    "    X_ts_tmp = np.c_[pred_lr1, pred_xgb2]\n",
    "    \n",
    "    if cur_block_num == 27:\n",
    "        X_train_level2 = X_ts_tmp\n",
    "    else:\n",
    "        X_train_level2 = np.concatenate((X_train_level2, X_ts_tmp), axis=0)\n",
    "    \n",
    "    del model2, lr1 \n",
    "    gc.collect();\n",
    "\n",
    "time.time() - ts"
   ]
  },
  {
   "cell_type": "code",
   "execution_count": 41,
   "metadata": {},
   "outputs": [],
   "source": [
    "# Serialized Meta-Features\n",
    "#X_train_level2 = pickle.load(open('X_train_level2.pickle' , 'rb'))"
   ]
  },
  {
   "cell_type": "code",
   "execution_count": 42,
   "metadata": {},
   "outputs": [
    {
     "name": "stdout",
     "output_type": "stream",
     "text": [
      "Best alpha: 0.000000; Corresponding rmse on train: 0.814113\n"
     ]
    }
   ],
   "source": [
    "# Simple Mix\n",
    "\n",
    "alphas_to_try = np.linspace(0, 1, 1001)\n",
    "\n",
    "best_alpha = 0\n",
    "best_rmse = 4\n",
    "for alpha in alphas_to_try:\n",
    "    mix = alpha*(X_train_level2[:,0]) + (1 - alpha)*(X_train_level2[:,1])\n",
    "    rmse_opt = np.sqrt(mean_squared_error(y_train_level2, mix))\n",
    "    if rmse_opt < best_rmse:\n",
    "        best_rmse = rmse_opt\n",
    "        best_alpha = alpha\n",
    "\n",
    "rmse_train_simple_mix = best_rmse\n",
    "\n",
    "print('Best alpha: %f; Corresponding rmse on train: %f' % (best_alpha, rmse_train_simple_mix))"
   ]
  },
  {
   "cell_type": "code",
   "execution_count": 43,
   "metadata": {},
   "outputs": [
    {
     "name": "stdout",
     "output_type": "stream",
     "text": [
      "Test rmse for simple mix is 0.920939\n"
     ]
    }
   ],
   "source": [
    "val_preds = best_alpha*(X_val_level2[:,0]) + (1 - best_alpha)*(X_val_level2[:,1]) \n",
    "rmse_test_simple_mix = np.sqrt(mean_squared_error(y_val, val_preds)) \n",
    "\n",
    "print('Test rmse for simple mix is %f' % rmse_test_simple_mix)"
   ]
  },
  {
   "cell_type": "code",
   "execution_count": 44,
   "metadata": {},
   "outputs": [
    {
     "name": "stdout",
     "output_type": "stream",
     "text": [
      "Train rmse for stacking is 0.814067\n",
      "Validation rmse for stacking is 0.921299\n"
     ]
    }
   ],
   "source": [
    "# Stacking\n",
    "\n",
    "lr2 = LinearRegression()\n",
    "lr2.fit(X_train_level2, y_train_level2)\n",
    "train_preds = lr2.predict(X_train_level2)\n",
    "rmse_train_stacking = np.sqrt(mean_squared_error(y_train_level2, train_preds)) \n",
    "\n",
    "val_preds = lr2.predict(X_val_level2)\n",
    "rmse_test_stacking = np.sqrt(mean_squared_error(y_val, val_preds)) \n",
    "\n",
    "print('Train rmse for stacking is %f' % rmse_train_stacking)\n",
    "print('Validation rmse for stacking is %f' % rmse_test_stacking)"
   ]
  },
  {
   "cell_type": "markdown",
   "metadata": {},
   "source": [
    "# **Future work**"
   ]
  },
  {
   "cell_type": "markdown",
   "metadata": {},
   "source": [
    "From RMSE values obtained in the train and validation dataset, it is observed that models trained undergo overfitting. Cross-validation and other techniques should be tested in order to overcome this problem. Also, new features must be searched in order to get a simpler model with a better score. Finally, ensembling techniques that include neural networks could be implemented and observe their impact on the metric evaluated."
   ]
  }
 ],
 "metadata": {
  "kernelspec": {
   "display_name": "Python 3",
   "language": "python",
   "name": "python3"
  },
  "language_info": {
   "codemirror_mode": {
    "name": "ipython",
    "version": 3
   },
   "file_extension": ".py",
   "mimetype": "text/x-python",
   "name": "python",
   "nbconvert_exporter": "python",
   "pygments_lexer": "ipython3",
   "version": "3.7.6"
  }
 },
 "nbformat": 4,
 "nbformat_minor": 4
}
